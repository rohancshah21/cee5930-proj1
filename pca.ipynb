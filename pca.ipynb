{
 "cells": [
  {
   "cell_type": "markdown",
   "id": "d0989933",
   "metadata": {},
   "source": [
    "We aim to analyze the GradeClass based on the supplied variables in the dataset using PCA."
   ]
  },
  {
   "cell_type": "code",
   "execution_count": 6,
   "id": "9d106fb8",
   "metadata": {},
   "outputs": [
    {
     "name": "stdout",
     "output_type": "stream",
     "text": [
      "Requirement already satisfied: pandas in /Users/rohancshah/opt/anaconda3/lib/python3.9/site-packages (1.3.4)\n",
      "Requirement already satisfied: python-dateutil>=2.7.3 in /Users/rohancshah/opt/anaconda3/lib/python3.9/site-packages (from pandas) (2.8.2)\n",
      "Requirement already satisfied: pytz>=2017.3 in /Users/rohancshah/opt/anaconda3/lib/python3.9/site-packages (from pandas) (2021.3)\n",
      "Requirement already satisfied: numpy>=1.17.3 in /Users/rohancshah/opt/anaconda3/lib/python3.9/site-packages (from pandas) (1.22.4)\n",
      "Requirement already satisfied: six>=1.5 in /Users/rohancshah/opt/anaconda3/lib/python3.9/site-packages (from python-dateutil>=2.7.3->pandas) (1.16.0)\n",
      "Requirement already satisfied: scikit-learn in /Users/rohancshah/opt/anaconda3/lib/python3.9/site-packages (1.5.2)\n",
      "Requirement already satisfied: numpy>=1.19.5 in /Users/rohancshah/opt/anaconda3/lib/python3.9/site-packages (from scikit-learn) (1.22.4)\n",
      "Requirement already satisfied: scipy>=1.6.0 in /Users/rohancshah/opt/anaconda3/lib/python3.9/site-packages (from scikit-learn) (1.7.1)\n",
      "Requirement already satisfied: joblib>=1.2.0 in /Users/rohancshah/opt/anaconda3/lib/python3.9/site-packages (from scikit-learn) (1.4.2)\n",
      "Requirement already satisfied: threadpoolctl>=3.1.0 in /Users/rohancshah/opt/anaconda3/lib/python3.9/site-packages (from scikit-learn) (3.5.0)\n",
      "Requirement already satisfied: matplotlib in /Users/rohancshah/opt/anaconda3/lib/python3.9/site-packages (3.4.3)\n",
      "Requirement already satisfied: cycler>=0.10 in /Users/rohancshah/opt/anaconda3/lib/python3.9/site-packages (from matplotlib) (0.10.0)\n",
      "Requirement already satisfied: kiwisolver>=1.0.1 in /Users/rohancshah/opt/anaconda3/lib/python3.9/site-packages (from matplotlib) (1.3.1)\n",
      "Requirement already satisfied: numpy>=1.16 in /Users/rohancshah/opt/anaconda3/lib/python3.9/site-packages (from matplotlib) (1.22.4)\n",
      "Requirement already satisfied: pillow>=6.2.0 in /Users/rohancshah/opt/anaconda3/lib/python3.9/site-packages (from matplotlib) (8.4.0)\n",
      "Requirement already satisfied: pyparsing>=2.2.1 in /Users/rohancshah/opt/anaconda3/lib/python3.9/site-packages (from matplotlib) (3.0.4)\n",
      "Requirement already satisfied: python-dateutil>=2.7 in /Users/rohancshah/opt/anaconda3/lib/python3.9/site-packages (from matplotlib) (2.8.2)\n",
      "Requirement already satisfied: six in /Users/rohancshah/opt/anaconda3/lib/python3.9/site-packages (from cycler>=0.10->matplotlib) (1.16.0)\n"
     ]
    }
   ],
   "source": [
    "!pip install pandas\n",
    "!pip install scikit-learn\n",
    "!pip install matplotlib"
   ]
  },
  {
   "cell_type": "code",
   "execution_count": 39,
   "id": "f0499606",
   "metadata": {},
   "outputs": [],
   "source": [
    "import pandas as pd\n",
    "from sklearn.decomposition import PCA\n",
    "from sklearn.preprocessing import StandardScaler\n",
    "import matplotlib.pyplot as plt\n",
    "\n",
    "student_data = pd.read_csv('student_data.csv')"
   ]
  },
  {
   "cell_type": "code",
   "execution_count": 46,
   "id": "afd39e28",
   "metadata": {},
   "outputs": [
    {
     "name": "stdout",
     "output_type": "stream",
     "text": [
      "[[ 0.45056492  0.36475793  0.1535742   0.30029798 -0.06318623 -0.04631476\n",
      "  -0.41481724  0.2162218  -0.15360679 -0.30100868  0.30989998  0.33908252]\n",
      " [ 0.2509462   0.07184035 -0.08926402 -0.30465629  0.47818075 -0.18655049\n",
      "   0.36813677  0.48176006 -0.23417426 -0.20869007  0.12045671 -0.29513918]\n",
      " [-0.09624003  0.24581529  0.03591031  0.2988169   0.3273326   0.64335067\n",
      "  -0.04753001  0.15743528 -0.17527057  0.47051145  0.09432995 -0.1750457 ]\n",
      " [-0.46141008 -0.24135084  0.64036094  0.04003915  0.22745745 -0.29828574\n",
      "  -0.04743557  0.20672094 -0.13982687  0.13351882  0.18791681  0.2424845 ]\n",
      " [-0.1003473  -0.36837937 -0.25957361  0.43189213 -0.05715174  0.04170959\n",
      "   0.24368252  0.04756542  0.25788205 -0.16398675  0.6558529  -0.10064943]\n",
      " [ 0.02137855  0.27241216  0.4972461   0.31376792  0.01588666 -0.00782743\n",
      "   0.17671993 -0.00106665  0.48152268 -0.28543844 -0.24233408 -0.4195484 ]\n",
      " [-0.22526511  0.13139779 -0.13852042 -0.40373554  0.00168752  0.13305702\n",
      "  -0.33367641  0.46404971  0.61954926  0.02432025  0.10942513  0.09489068]\n",
      " [ 0.36970691 -0.49727142  0.11080441  0.16715048 -0.3251867   0.1124004\n",
      "   0.06439778  0.54004059  0.02521928  0.21232761 -0.33773447  0.04320049]\n",
      " [ 0.18022971 -0.11478218 -0.12207061  0.17897628  0.59838091  0.03826432\n",
      "   0.17726446 -0.14024681  0.32980743 -0.02599261 -0.25833433  0.56622227]\n",
      " [ 0.13804449  0.42414596 -0.01499734  0.03193165 -0.22794652 -0.3704193\n",
      "   0.42612896  0.03904501  0.17751267  0.57825244  0.17650326  0.17458194]\n",
      " [-0.19338787  0.15785448  0.15307798 -0.19164414 -0.29342462  0.47399512\n",
      "   0.51844335  0.08867603 -0.1333503  -0.3395952   0.01934586  0.39575871]\n",
      " [ 0.47430346 -0.22509212  0.41525718 -0.42474533  0.05551456  0.25435099\n",
      "  -0.00158861 -0.33960162  0.17431442  0.14905125  0.36341404 -0.0611802 ]]\n",
      "[0.09329006 0.0899149  0.08882075 0.08674823 0.08519023 0.08440268\n",
      " 0.08266489 0.08064195 0.07998212 0.07890675 0.07673221 0.07270523]\n"
     ]
    }
   ],
   "source": [
    "y = student_data['GradeClass']\n",
    "X = student_data.drop(columns=['GPA', 'GradeClass', 'StudentID'])\n",
    "\n",
    "scaler = StandardScaler()\n",
    "x = scaler.fit_transform(X)\n",
    "pca = PCA(n_components=None)\n",
    "pca.fit(x)\n",
    "\n",
    "print(pca.components_)\n",
    "print(pca.explained_variance_ratio_)"
   ]
  },
  {
   "cell_type": "code",
   "execution_count": null,
   "id": "bb1c0416",
   "metadata": {},
   "outputs": [],
   "source": []
  }
 ],
 "metadata": {
  "kernelspec": {
   "display_name": "Python 3 (ipykernel)",
   "language": "python",
   "name": "python3"
  },
  "language_info": {
   "codemirror_mode": {
    "name": "ipython",
    "version": 3
   },
   "file_extension": ".py",
   "mimetype": "text/x-python",
   "name": "python",
   "nbconvert_exporter": "python",
   "pygments_lexer": "ipython3",
   "version": "3.9.7"
  }
 },
 "nbformat": 4,
 "nbformat_minor": 5
}
