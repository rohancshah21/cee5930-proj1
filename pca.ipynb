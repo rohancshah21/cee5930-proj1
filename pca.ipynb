{
 "cells": [
  {
   "cell_type": "markdown",
   "id": "d0989933",
   "metadata": {},
   "source": [
    "We aim to analyze the GradeClass based on the supplied variables in the dataset using PCA."
   ]
  },
  {
   "cell_type": "code",
   "execution_count": 6,
   "id": "9d106fb8",
   "metadata": {},
   "outputs": [
    {
     "name": "stdout",
     "output_type": "stream",
     "text": [
      "Requirement already satisfied: pandas in /Users/rohancshah/opt/anaconda3/lib/python3.9/site-packages (1.3.4)\n",
      "Requirement already satisfied: python-dateutil>=2.7.3 in /Users/rohancshah/opt/anaconda3/lib/python3.9/site-packages (from pandas) (2.8.2)\n",
      "Requirement already satisfied: pytz>=2017.3 in /Users/rohancshah/opt/anaconda3/lib/python3.9/site-packages (from pandas) (2021.3)\n",
      "Requirement already satisfied: numpy>=1.17.3 in /Users/rohancshah/opt/anaconda3/lib/python3.9/site-packages (from pandas) (1.22.4)\n",
      "Requirement already satisfied: six>=1.5 in /Users/rohancshah/opt/anaconda3/lib/python3.9/site-packages (from python-dateutil>=2.7.3->pandas) (1.16.0)\n",
      "Requirement already satisfied: scikit-learn in /Users/rohancshah/opt/anaconda3/lib/python3.9/site-packages (1.5.2)\n",
      "Requirement already satisfied: numpy>=1.19.5 in /Users/rohancshah/opt/anaconda3/lib/python3.9/site-packages (from scikit-learn) (1.22.4)\n",
      "Requirement already satisfied: scipy>=1.6.0 in /Users/rohancshah/opt/anaconda3/lib/python3.9/site-packages (from scikit-learn) (1.7.1)\n",
      "Requirement already satisfied: joblib>=1.2.0 in /Users/rohancshah/opt/anaconda3/lib/python3.9/site-packages (from scikit-learn) (1.4.2)\n",
      "Requirement already satisfied: threadpoolctl>=3.1.0 in /Users/rohancshah/opt/anaconda3/lib/python3.9/site-packages (from scikit-learn) (3.5.0)\n",
      "Requirement already satisfied: matplotlib in /Users/rohancshah/opt/anaconda3/lib/python3.9/site-packages (3.4.3)\n",
      "Requirement already satisfied: cycler>=0.10 in /Users/rohancshah/opt/anaconda3/lib/python3.9/site-packages (from matplotlib) (0.10.0)\n",
      "Requirement already satisfied: kiwisolver>=1.0.1 in /Users/rohancshah/opt/anaconda3/lib/python3.9/site-packages (from matplotlib) (1.3.1)\n",
      "Requirement already satisfied: numpy>=1.16 in /Users/rohancshah/opt/anaconda3/lib/python3.9/site-packages (from matplotlib) (1.22.4)\n",
      "Requirement already satisfied: pillow>=6.2.0 in /Users/rohancshah/opt/anaconda3/lib/python3.9/site-packages (from matplotlib) (8.4.0)\n",
      "Requirement already satisfied: pyparsing>=2.2.1 in /Users/rohancshah/opt/anaconda3/lib/python3.9/site-packages (from matplotlib) (3.0.4)\n",
      "Requirement already satisfied: python-dateutil>=2.7 in /Users/rohancshah/opt/anaconda3/lib/python3.9/site-packages (from matplotlib) (2.8.2)\n",
      "Requirement already satisfied: six in /Users/rohancshah/opt/anaconda3/lib/python3.9/site-packages (from cycler>=0.10->matplotlib) (1.16.0)\n"
     ]
    }
   ],
   "source": [
    "!pip install pandas\n",
    "!pip install scikit-learn\n",
    "!pip install matplotlib"
   ]
  },
  {
   "cell_type": "code",
   "execution_count": 7,
   "id": "f0499606",
   "metadata": {},
   "outputs": [],
   "source": [
    "import pandas as pd\n",
    "from sklearn.decomposition import PCA\n",
    "from sklearn.preprocessing import StandardScaler\n",
    "import matplotlib.pyplot as plt\n",
    "\n",
    "file = 'student_data.csv'\n",
    "student_data = pd.read_csv(file)"
   ]
  },
  {
   "cell_type": "code",
   "execution_count": 13,
   "id": "afd39e28",
   "metadata": {},
   "outputs": [
    {
     "name": "stdout",
     "output_type": "stream",
     "text": [
      "        Age    Gender  Ethnicity  ParentalEducation  StudyTimeWeekly  \\\n",
      "0  0.450565  0.364758   0.153574           0.300298        -0.063186   \n",
      "1  0.250946  0.071840  -0.089264          -0.304656         0.478181   \n",
      "2 -0.096240  0.245815   0.035910           0.298817         0.327333   \n",
      "\n",
      "   Absences  Tutoring  ParentalSupport  Extracurricular    Sports     Music  \\\n",
      "0 -0.046315 -0.414817         0.216222        -0.153607 -0.301009  0.309900   \n",
      "1 -0.186550  0.368137         0.481760        -0.234174 -0.208690  0.120457   \n",
      "2  0.643351 -0.047530         0.157435        -0.175271  0.470511  0.094330   \n",
      "\n",
      "   Volunteering  \n",
      "0      0.339083  \n",
      "1     -0.295139  \n",
      "2     -0.175046  \n"
     ]
    }
   ],
   "source": [
    "X = student_data.drop(columns=['GPA', 'GradeClass', 'StudentID'])\n",
    "y = student_data['GradeClass']\n",
    "\n",
    "scaler = StandardScaler()\n",
    "X_scaled = scaler.fit_transform(X)\n",
    "pca = PCA(n_components=None)\n",
    "pca.fit(X_scaled)\n",
    "\n",
    "explained_variance = pca.explained_variance_ratio_\n",
    "components = pca.components_\n",
    "\n",
    "pca_df = pd.DataFrame(components, columns=X.columns)\n",
    "\n",
    "top_3_pcs = pca_df.head(3)\n",
    "top_3_explained_variance = explained_variance[:3]\n",
    "\n",
    "print(top_3_pcs)"
   ]
  },
  {
   "cell_type": "code",
   "execution_count": 17,
   "id": "dddb8c1f",
   "metadata": {},
   "outputs": [
    {
     "name": "stdout",
     "output_type": "stream",
     "text": [
      "        Age    Gender  Ethnicity  ParentalEducation  StudyTimeWeekly  \\\n",
      "0  0.450565  0.364758   0.153574           0.300298        -0.063186   \n",
      "1  0.250946  0.071840  -0.089264          -0.304656         0.478181   \n",
      "2 -0.096240  0.245815   0.035910           0.298817         0.327333   \n",
      "\n",
      "   Absences  Tutoring  ParentalSupport  Extracurricular    Sports     Music  \\\n",
      "0 -0.046315 -0.414817         0.216222        -0.153607 -0.301009  0.309900   \n",
      "1 -0.186550  0.368137         0.481760        -0.234174 -0.208690  0.120457   \n",
      "2  0.643351 -0.047530         0.157435        -0.175271  0.470511  0.094330   \n",
      "\n",
      "   Volunteering  Explained Variance  \n",
      "0      0.339083            0.093290  \n",
      "1     -0.295139            0.089915  \n",
      "2     -0.175046            0.088821  \n"
     ]
    }
   ],
   "source": [
    "top_3_pcs_with_variance = pd.DataFrame(top_3_pcs)\n",
    "top_3_pcs_with_variance['Explained Variance'] = top_3_explained_variance\n",
    "\n",
    "importance_scores = top_3_pcs.abs().sum(axis=0)\n",
    "\n",
    "most_important_variables = importance_scores.nlargest(3)\n"
   ]
  },
  {
   "cell_type": "code",
   "execution_count": null,
   "id": "130e571d",
   "metadata": {},
   "outputs": [],
   "source": []
  }
 ],
 "metadata": {
  "kernelspec": {
   "display_name": "Python 3 (ipykernel)",
   "language": "python",
   "name": "python3"
  },
  "language_info": {
   "codemirror_mode": {
    "name": "ipython",
    "version": 3
   },
   "file_extension": ".py",
   "mimetype": "text/x-python",
   "name": "python",
   "nbconvert_exporter": "python",
   "pygments_lexer": "ipython3",
   "version": "3.9.7"
  }
 },
 "nbformat": 4,
 "nbformat_minor": 5
}
