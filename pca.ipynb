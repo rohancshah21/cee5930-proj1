{
 "cells": [
  {
   "cell_type": "markdown",
   "id": "d2c9d707",
   "metadata": {},
   "source": [
    "We aim to analyze the GradeClass based on the supplied variables in the dataset using GPA."
   ]
  },
  {
   "cell_type": "code",
   "execution_count": null,
   "id": "d6aadadf",
   "metadata": {},
   "outputs": [],
   "source": []
  }
 ],
 "metadata": {
  "kernelspec": {
   "display_name": "Python 3 (ipykernel)",
   "language": "python",
   "name": "python3"
  },
  "language_info": {
   "codemirror_mode": {
    "name": "ipython",
    "version": 3
   },
   "file_extension": ".py",
   "mimetype": "text/x-python",
   "name": "python",
   "nbconvert_exporter": "python",
   "pygments_lexer": "ipython3",
   "version": "3.9.7"
  }
 },
 "nbformat": 4,
 "nbformat_minor": 5
}
